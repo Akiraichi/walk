{
 "cells": [
  {
   "cell_type": "code",
   "execution_count": 1,
   "metadata": {
    "collapsed": true
   },
   "outputs": [],
   "source": [
    "import numpy as np\n",
    "from randomWalk import exp_func"
   ]
  },
  {
   "cell_type": "markdown",
   "source": [
    "実験1："
   ],
   "metadata": {
    "collapsed": false,
    "pycharm": {
     "name": "#%% md\n"
    }
   }
  },
  {
   "cell_type": "code",
   "execution_count": null,
   "outputs": [],
   "source": [
    "\"\"\"実験パラメータ\"\"\"\n",
    "# 最大時間発展T(t=0〜t=Tまで時間発展させる)及びプロットさせたい点t\n",
    "T = 10\n",
    "p_list = [0, 0.1, 0.2, 0.3, 0.4, 0.5, 0.6, 0.7, 0.8, 0.9, 1]\n",
    "\n",
    "# 初期確率振幅ベクトル[時間×距離(-T〜T)×2次元ベクトル]\n",
    "psy = np.zeros([T + 1, 2 * T + 1], dtype=float)\n",
    "psy[0, 0+T] = 1\n",
    "\n",
    "\"\"\"プロット設定\"\"\"\n",
    "# plotしたい時間t。\n",
    "plot_t = T\n",
    "# 1つのグラフ内に複数のグラフを表示させる場合、一列（行）に何個グラフを表示させるようにするか？\n",
    "plot_graph_num_by_axis_row = 3\n",
    "plot_graph_num_by_axis_col = 4\n",
    "# グラフの横軸をそれぞれのグラフで最後のx軸の幅に固定するか？\n",
    "is_solid_axis_x = False\n",
    "# グラフの種類\n",
    "graph_type = \"棒グラフ\"\n",
    "\n",
    "\"\"\"実験\"\"\"\n",
    "exp_code = \"exp_5\"\n",
    "exp_func.random_walk_1d_p_change(exp_code, T, p_list, psy, plot_t, plot_graph_num_by_axis_row,\n",
    "                                 plot_graph_num_by_axis_col, graph_type=graph_type)"
   ],
   "metadata": {
    "collapsed": false,
    "pycharm": {
     "name": "#%%\n"
    }
   }
  }
 ],
 "metadata": {
  "kernelspec": {
   "display_name": "Python 3",
   "language": "python",
   "name": "python3"
  },
  "language_info": {
   "codemirror_mode": {
    "name": "ipython",
    "version": 2
   },
   "file_extension": ".py",
   "mimetype": "text/x-python",
   "name": "python",
   "nbconvert_exporter": "python",
   "pygments_lexer": "ipython2",
   "version": "2.7.6"
  }
 },
 "nbformat": 4,
 "nbformat_minor": 0
}