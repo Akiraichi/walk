{
 "cells": [
  {
   "cell_type": "code",
   "execution_count": 1,
   "metadata": {
    "collapsed": true
   },
   "outputs": [],
   "source": [
    "import numpy as np\n",
    "import math\n",
    "from randomWalk import exp_func"
   ]
  },
  {
   "cell_type": "markdown",
   "source": [
    "## 実験名：実験6\n",
    "### 実験内容（できるだけ分かりやすく文章で説明）\n",
    "量子ウォークの確率分布が自明な場合をシミュレーションした。"
   ],
   "metadata": {
    "collapsed": false,
    "pycharm": {
     "name": "#%% md\n"
    }
   }
  },
  {
   "cell_type": "code",
   "execution_count": 3,
   "outputs": [],
   "source": [
    "\"\"\"実験パラメータ\"\"\"\n",
    "# 実験コード\n",
    "exp_code = \"exp_6\"\n",
    "# 最大時間発展T(t=0〜t=T-1まで時間発展させる)\n",
    "T = 100\n",
    "# P,Q\n",
    "P = np.array([[1, 0], [0, 0]], dtype=np.complex128)\n",
    "Q = np.array([[0, 0], [0, 1]], dtype=np.complex128)\n",
    "# 初期確率振幅ベクトル[時間×距離(-T〜T)×2次元ベクトル]\n",
    "PSY = np.zeros([T, 2 * T, 2], dtype=np.complex128)\n",
    "PSY[0, 0] = np.array([1, 0])\n",
    "\n",
    "\"\"\"プロット設定\"\"\"\n",
    "# plotしたい時間t。リストで指定。複数指定の場合の例：plots_t = [0, 1, 2, 3]\n",
    "plots_t = [0, 1, 2, 3]\n",
    "# 1つのグラフ内に複数のグラフを表示させる場合、一列（行）に何個グラフを表示させるようにするか？\n",
    "plot_graph_num_by_axis = int(math.ceil(len(plots_t) ** 0.5))\n",
    "# グラフの種類\n",
    "graph_type = \"棒グラフ\""
   ],
   "metadata": {
    "collapsed": false,
    "pycharm": {
     "name": "#%%\n"
    }
   }
  },
  {
   "cell_type": "code",
   "execution_count": 4,
   "outputs": [
    {
     "data": {
      "text/plain": "<Figure size 432x288 with 4 Axes>",
      "image/png": "[encoded data removed]"
     },
     "metadata": {
      "needs_background": "light"
     },
     "output_type": "display_data"
    }
   ],
   "source": [
    "\n",
    "\n",
    "exp_func.quantum_walk_1d(exp_code, T, P, Q, PSY, plots_t, plot_graph_num_by_axis, graph_type)"
   ],
   "metadata": {
    "collapsed": false,
    "pycharm": {
     "name": "#%%\n"
    }
   }
  },
  {
   "cell_type": "code",
   "execution_count": null,
   "outputs": [],
   "source": [],
   "metadata": {
    "collapsed": false,
    "pycharm": {
     "name": "#%%\n"
    }
   }
  }
 ],
 "metadata": {
  "kernelspec": {
   "display_name": "Python 3",
   "language": "python",
   "name": "python3"
  },
  "language_info": {
   "codemirror_mode": {
    "name": "ipython",
    "version": 2
   },
   "file_extension": ".py",
   "mimetype": "text/x-python",
   "name": "python",
   "nbconvert_exporter": "python",
   "pygments_lexer": "ipython2",
   "version": "2.7.6"
  }
 },
 "nbformat": 4,
 "nbformat_minor": 0
}