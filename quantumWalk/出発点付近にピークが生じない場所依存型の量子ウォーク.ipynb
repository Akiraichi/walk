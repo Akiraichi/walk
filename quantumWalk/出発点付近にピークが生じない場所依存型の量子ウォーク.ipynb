{
 "cells": [
  {
   "cell_type": "code",
   "execution_count": null,
   "outputs": [],
   "source": [
    "import numpy as np\n",
    "import quantumWalkUtility\n",
    "import matplotlib as plt\n",
    "plt.style.use(['default'])"
   ],
   "metadata": {
    "collapsed": false,
    "pycharm": {
     "name": "#%%\n"
    }
   }
  },
  {
   "cell_type": "markdown",
   "source": [
    "### 出発点付近に大きなピークが生じない場合\n",
    "\n",
    "量子ウォークの時間発展は以下の通り\n",
    "\n",
    "$P_{x}=\\left[\\begin{array}{cc}a_{x} & b_{x} \\\\ 0 & 0\\end{array}\\right], \\quad Q_{x}=\\left[\\begin{array}{cc}0 & 0 \\\\ c_{x} & d_{x}\\end{array}\\right] \\quad(x=0,\\pm 1,\\pm 2, \\ldots)$\n",
    "\n",
    "$\\vec{\\psi}_{t+1}(x)=P_{x+1} \\vec{\\psi}_{t}(x+1)+Q_{x-1} \\vec{\\psi}_{t}(x-1)$\n",
    "\n",
    "全ての$x$に対して$P_x+Q_x$はユニタリ行列とする\n",
    "\n",
    "今回は、数学的な結果との対比を見ることができる以下の行列で考える\n",
    "\n",
    "$P_{0}=\\left[\\begin{array}{cc}\\frac{1}{\\sqrt{2}} e^{i w} & \\frac{1}{\\sqrt{2}} \\\\ 0 & 0\\end{array}\\right], \\quad Q_{0}=\\left[\\begin{array}{cc}0 & 0 \\\\ \\frac{1}{\\sqrt{2}} & -\\frac{1}{\\sqrt{2}} e^{-i \\omega} \\end{array}\\right]$\n",
    "$P_{x}=\\left[\\begin{array}{cc}\\frac{1}{\\sqrt{2}} & \\frac{1}{\\sqrt{2}} \\\\ 0 & 0\\end{array}\\right], \\quad Q_{x}=\\left[\\begin{array}{cc}0 & 0 \\\\ \\frac{1}{\\sqrt{2}} & -\\frac{1}{\\sqrt{2}}\\end{array}\\right]$\n"
   ],
   "metadata": {
    "collapsed": false
   }
  },
  {
   "cell_type": "markdown",
   "source": [
    "### 実験15\n",
    "\n",
    "$\\omega = \\frac{\\pi}{2}$\n",
    "\n",
    "\n",
    "### 実験15-1\n",
    "$\\psi_0(0)=\\left[\\begin{matrix} 1 \\\\ 0 \\end{matrix}\\right]$,\n",
    "$\\psi_t(x)=\\left[\\begin{matrix} 0  \\\\ 0  \\end{matrix}\\right]$ $(x\\neq0)$\n",
    "\n",
    "### 実験15-2\n",
    "$\\psi_0(0)=\\left[\\begin{matrix} 0 \\\\ 1 \\end{matrix}\\right]$,\n",
    "$\\psi_t(x)=\\left[\\begin{matrix} 0  \\\\ 0  \\end{matrix}\\right]$ $(x\\neq0)$\n",
    "\n",
    "### 実験15-3\n",
    "$\\psi_0(0)=\\left[\\begin{matrix} \\frac{1}{\\sqrt{2}}  \\\\ \\frac{i}{\\sqrt{2}}  \\end{matrix}\\right]$\n",
    "$\\psi_t(x)=\\left[\\begin{matrix} 0\\\\ 0 \\end{matrix}\\right]$ $(x\\neq0)$\n",
    "\n",
    "### 実験結果\n"
   ],
   "metadata": {
    "collapsed": false
   }
  },
  {
   "cell_type": "code",
   "execution_count": null,
   "outputs": [],
   "source": [
    "def exp_15(exp_code_chapter,PSY_init,description):\n",
    "    \"\"\"実験結果保存設定\"\"\"\n",
    "    exp_code = \"exp_12\"\n",
    "    folder_name, fig_title_name, file_name = quantumWalkUtility.save_setting(exp_code,exp_code_chapter,description)\n",
    "\n",
    "    \"\"\"実験\"\"\"\n",
    "    # 最大時間発展T\n",
    "    T = 500\n",
    "\n",
    "    # P,Q\n",
    "    omega = np.pi / 2\n",
    "    P_0 = np.array([[1/np.sqrt(2), 1/np.sqrt(2) * np.exp(1j*omega)], [0, 0]], dtype=np.complex128)\n",
    "    Q_0 = np.array([[0, 0], [ 1/np.sqrt(2) * np.exp(-1j*omega),-1/np.sqrt(2)]], dtype=np.complex128)\n",
    "    P_x = np.array([[1/np.sqrt(2), 1/np.sqrt(2)], [0, 0]], dtype=np.complex128)\n",
    "    Q_x = np.array([[0, 0], [ 1/np.sqrt(2),-1/np.sqrt(2)]], dtype=np.complex128)\n",
    "\n",
    "    PSY = quantumWalkUtility.quantum_walk_1d_depend_x(T, P_0, Q_0, P_x, Q_x, PSY_init)\n",
    "\n",
    "    \"\"\"プロット及び保存\"\"\"\n",
    "    # plotしたい時間t。\n",
    "    plots_t = [0, 1, 2, 3, 4, 5, 10, 20, 50, 100, 200, 500]\n",
    "    # 1つのグラフ内に複数のグラフを表示させる場合、一列（行）に何個グラフを表示させるようにするか？\n",
    "    plot_graph_num_by_axis_row = 3\n",
    "    plot_graph_num_by_axis_col = 4\n",
    "    # グラフの種類\n",
    "    graph_type = \"棒グラフ\"\n",
    "    quantumWalkUtility.do_plot(folder_name, fig_title_name, file_name, plots_t, plot_graph_num_by_axis_row,\n",
    "                plot_graph_num_by_axis_col,\n",
    "                False, graph_type, PSY)\n",
    "\n",
    "PSY_init = np.array([1, 0])\n",
    "exp_15(exp_code_chapter=1,PSY_init=PSY_init,description=\"確率分布の時間発展1\")\n",
    "\n",
    "PSY_init = np.array([0, 1])\n",
    "exp_15(exp_code_chapter=2,PSY_init=PSY_init,description=\"確率分布の時間発展2\")\n",
    "\n",
    "PSY_init = np.array([1/np.sqrt(2), 1j/np.sqrt(2)])\n",
    "exp_15(exp_code_chapter=3,PSY_init=PSY_init,description=\"確率分布の時間発展3\")\n",
    "\n",
    "\n",
    "\n"
   ],
   "metadata": {
    "collapsed": false,
    "pycharm": {
     "name": "#%%\n"
    }
   }
  },
  {
   "cell_type": "markdown",
   "source": [
    "### 実験13\n",
    "\n",
    "$\\omega = \\pi$\n",
    "\n",
    "\n",
    "### 実験13-1\n",
    "$\\psi_0(0)=\\left[\\begin{matrix} 1 \\\\ 0 \\end{matrix}\\right]$,\n",
    "$\\psi_t(x)=\\left[\\begin{matrix} 0  \\\\ 0  \\end{matrix}\\right]$ $(x\\neq0)$\n",
    "\n",
    "### 実験13-2\n",
    "$\\psi_0(0)=\\left[\\begin{matrix} 0 \\\\ 1 \\end{matrix}\\right]$,\n",
    "$\\psi_t(x)=\\left[\\begin{matrix} 0  \\\\ 0  \\end{matrix}\\right]$ $(x\\neq0)$\n",
    "\n",
    "### 実験13-3\n",
    "$\\psi_0(0)=\\left[\\begin{matrix} \\frac{1}{\\sqrt{2}}  \\\\ \\frac{i}{\\sqrt{2}}  \\end{matrix}\\right]$\n",
    "$\\psi_t(x)=\\left[\\begin{matrix} 0\\\\ 0 \\end{matrix}\\right]$ $(x\\neq0)$\n",
    "\n",
    "### 実験結果\n"
   ],
   "metadata": {
    "collapsed": false
   }
  },
  {
   "cell_type": "code",
   "execution_count": null,
   "outputs": [],
   "source": [
    "def exp_13(exp_code_chapter,PSY_init,description):\n",
    "    \"\"\"実験結果保存設定\"\"\"\n",
    "    exp_code = \"exp_13\"\n",
    "    folder_name, fig_title_name, file_name = quantumWalkUtility.save_setting(exp_code,exp_code_chapter,description)\n",
    "\n",
    "    \"\"\"実験\"\"\"\n",
    "    # 最大時間発展T\n",
    "    T = 500\n",
    "\n",
    "    # P,Q\n",
    "    omega = np.pi\n",
    "    P_0 = np.array([[1/np.sqrt(2), 1/np.sqrt(2) * np.exp(1j*omega)], [0, 0]], dtype=np.complex128)\n",
    "    Q_0 = np.array([[0, 0], [ 1/np.sqrt(2) * np.exp(-1j*omega),-1/np.sqrt(2)]], dtype=np.complex128)\n",
    "    P_x = np.array([[1/np.sqrt(2), 1/np.sqrt(2)], [0, 0]], dtype=np.complex128)\n",
    "    Q_x = np.array([[0, 0], [ 1/np.sqrt(2),-1/np.sqrt(2)]], dtype=np.complex128)\n",
    "\n",
    "    PSY = quantumWalkUtility.quantum_walk_1d_depend_x(T, P_0, Q_0, P_x, Q_x, PSY_init)\n",
    "\n",
    "    \"\"\"プロット及び保存\"\"\"\n",
    "    # plotしたい時間t。\n",
    "    plots_t = [0, 1, 2, 3, 4, 5, 10, 20, 50, 100, 200, 500]\n",
    "    # 1つのグラフ内に複数のグラフを表示させる場合、一列（行）に何個グラフを表示させるようにするか？\n",
    "    plot_graph_num_by_axis_row = 3\n",
    "    plot_graph_num_by_axis_col = 4\n",
    "    # グラフの種類\n",
    "    graph_type = \"棒グラフ\"\n",
    "    quantumWalkUtility.do_plot(folder_name, fig_title_name, file_name, plots_t, plot_graph_num_by_axis_row,\n",
    "                plot_graph_num_by_axis_col,\n",
    "                False, graph_type, PSY)\n",
    "\n",
    "PSY_init = np.array([1, 0])\n",
    "exp_13(exp_code_chapter=1,PSY_init=PSY_init,description=\"確率分布の時間発展4\")\n",
    "\n",
    "PSY_init = np.array([0, 1])\n",
    "exp_13(exp_code_chapter=2,PSY_init=PSY_init,description=\"確率分布の時間発展5\")\n",
    "\n",
    "PSY_init = np.array([1/np.sqrt(2), 1j/np.sqrt(2)])\n",
    "exp_13(exp_code_chapter=3,PSY_init=PSY_init,description=\"確率分布の時間発展6\")\n"
   ],
   "metadata": {
    "collapsed": false,
    "pycharm": {
     "name": "#%%\n"
    }
   }
  },
  {
   "cell_type": "markdown",
   "source": [
    "### 実験14\n",
    "\n",
    "$\\omega = 0,\\frac{\\pi}{12}, \\dots, \\frac{11\\pi}{12}$\n",
    "\n",
    "\n",
    "### 実験14-1\n",
    "$\\psi_0(0)=\\left[\\begin{matrix} 1 \\\\ 0 \\end{matrix}\\right]$,\n",
    "$\\psi_t(x)=\\left[\\begin{matrix} 0  \\\\ 0  \\end{matrix}\\right]$ $(x\\neq0)$\n",
    "\n",
    "### 実験14-2\n",
    "$\\psi_0(0)=\\left[\\begin{matrix} 0 \\\\ 1 \\end{matrix}\\right]$,\n",
    "$\\psi_t(x)=\\left[\\begin{matrix} 0  \\\\ 0  \\end{matrix}\\right]$ $(x\\neq0)$\n",
    "\n",
    "### 実験14-3\n",
    "$\\psi_0(0)=\\left[\\begin{matrix} \\frac{1}{\\sqrt{2}}  \\\\ \\frac{i}{\\sqrt{2}}  \\end{matrix}\\right]$\n",
    "$\\psi_t(x)=\\left[\\begin{matrix} 0\\\\ 0 \\end{matrix}\\right]$ $(x\\neq0)$\n",
    "\n",
    "### 実験結果"
   ],
   "metadata": {
    "collapsed": false
   }
  },
  {
   "cell_type": "code",
   "execution_count": null,
   "outputs": [],
   "source": [
    "def exp_14(exp_code_chapter,PSY_init,description):\n",
    "    \"\"\"実験結果保存設定\"\"\"\n",
    "    exp_code = \"exp_14\"\n",
    "    folder_name, fig_title_name, file_name = quantumWalkUtility.save_setting(exp_code,exp_code_chapter,description)\n",
    "\n",
    "    \"\"\"実験\"\"\"\n",
    "    # 最大時間発展T(t=0〜t=Tまで時間発展させる。t=Tを求めるにはT+1まで計算する必要があるため内部ではT+1まで計算している)\n",
    "    T = 500\n",
    "    # P,Q\n",
    "    omega_list = [i * np.pi / 12 for i in range(0,12)]\n",
    "    P_0_list=[]\n",
    "    Q_0_list=[]\n",
    "    for omega in omega_list:\n",
    "        P_0 = np.array([[1/np.sqrt(2), 1/np.sqrt(2) * np.exp(1j*omega)], [0, 0]], dtype=np.complex128)\n",
    "        Q_0 = np.array([[0, 0], [ 1/np.sqrt(2) * np.exp(-1j*omega),-1/np.sqrt(2)]], dtype=np.complex128)\n",
    "        P_0_list.append(P_0)\n",
    "        Q_0_list.append(Q_0)\n",
    "    P_x = np.array([[1/np.sqrt(2), 1/np.sqrt(2)], [0, 0]], dtype=np.complex128)\n",
    "    Q_x = np.array([[0, 0], [ 1/np.sqrt(2),-1/np.sqrt(2)]], dtype=np.complex128)\n",
    "    PSY_list = quantumWalkUtility.quantum_walk_1d_depend_x_omega_change(T, P_0_list, Q_0_list, P_x, Q_x, PSY_init)\n",
    "\n",
    "    \"\"\"プロット及び保存\"\"\"\n",
    "    # plotしたい時間t。\n",
    "    plot_t = 500\n",
    "    # 1つのグラフ内に複数のグラフを表示させる場合、一列（行）に何個グラフを表示させるようにするか？\n",
    "    plot_graph_num_by_axis_row = 3\n",
    "    plot_graph_num_by_axis_col = 4\n",
    "    # グラフの種類\n",
    "    graph_type = \"棒グラフ\"\n",
    "    quantumWalkUtility.do_plot_PSY_list(folder_name, fig_title_name, file_name, plot_t, plot_graph_num_by_axis_row,\n",
    "                     plot_graph_num_by_axis_col, graph_type, PSY_list, omega_list)\n",
    "\n",
    "PSY_init = np.array([1, 0])\n",
    "exp_14(exp_code_chapter=1,PSY_init=PSY_init,description=\"確率分布の行列依存性1\")\n",
    "\n",
    "PSY_init = np.array([0, 1])\n",
    "exp_14(exp_code_chapter=2,PSY_init=PSY_init,description=\"確率分布の行列依存性2\")\n",
    "\n",
    "PSY_init = np.array([1/np.sqrt(2), 1j/np.sqrt(2)])\n",
    "exp_14(exp_code_chapter=3,PSY_init=PSY_init,description=\"確率分布の行列依存性3\")"
   ],
   "metadata": {
    "collapsed": false,
    "pycharm": {
     "name": "#%%\n"
    }
   }
  },
  {
   "cell_type": "code",
   "execution_count": null,
   "outputs": [],
   "source": [],
   "metadata": {
    "collapsed": false,
    "pycharm": {
     "name": "#%%\n"
    }
   }
  }
 ],
 "metadata": {
  "kernelspec": {
   "display_name": "Python 3",
   "language": "python",
   "name": "python3"
  },
  "language_info": {
   "codemirror_mode": {
    "name": "ipython",
    "version": 2
   },
   "file_extension": ".py",
   "mimetype": "text/x-python",
   "name": "python",
   "nbconvert_exporter": "python",
   "pygments_lexer": "ipython2",
   "version": "2.7.6"
  }
 },
 "nbformat": 4,
 "nbformat_minor": 0
}