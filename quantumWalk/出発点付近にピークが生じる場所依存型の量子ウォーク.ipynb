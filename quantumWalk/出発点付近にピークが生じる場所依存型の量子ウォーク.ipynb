{
 "cells": [
  {
   "cell_type": "markdown",
   "metadata": {
    "collapsed": true,
    "pycharm": {
     "name": "#%% md\n"
    }
   },
   "source": [
    "### 出発点付近に大きなピークが生じる場合\n",
    "\n",
    "量子ウォークの時間発展は以下の通り\n",
    "\n",
    "$P_{x}=\\left[\\begin{array}{cc}a_{x} & b_{x} \\\\ 0 & 0\\end{array}\\right], \\quad Q_{x}=\\left[\\begin{array}{cc}0 & 0 \\\\ c_{x} & d_{x}\\end{array}\\right] \\quad(x=0,\\pm 1,\\pm 2, \\ldots)$\n",
    "\n",
    "$\\vec{\\psi}_{t+1}(x)=P_{x+1} \\vec{\\psi}_{t}(x+1)+Q_{x-1} \\vec{\\psi}_{t}(x-1)$\n",
    "\n",
    "全ての$x$に対して$P_x+Q_x$はユニタリ行列とする\n",
    "\n",
    "今回は、数学的な結果との対比を見ることができる以下の行列で考える\n",
    "\n",
    "$P_{0}=\\left[\\begin{array}{cc}\\frac{1}{\\sqrt{2}} & \\frac{1}{\\sqrt{2}} e^{i w} \\\\ 0 & 0\\end{array}\\right], \\quad Q_{0}=\\left[\\begin{array}{cc}0 & 0 \\\\ \\frac{1}{\\sqrt{2}} e^{-i \\omega} & -\\frac{1}{\\sqrt{2}}\\end{array}\\right]$\n",
    "$P_{x}=\\left[\\begin{array}{cc}\\frac{1}{\\sqrt{2}} & \\frac{1}{\\sqrt{2}} \\\\ 0 & 0\\end{array}\\right], \\quad Q_{x}=\\left[\\begin{array}{cc}0 & 0 \\\\ \\frac{1}{\\sqrt{2}} & -\\frac{1}{\\sqrt{2}}\\end{array}\\right]$"
   ]
  },
  {
   "cell_type": "markdown",
   "source": [
    "### 実験名：実験18-1\n",
    "\n",
    "### 実験内容：\n",
    "\n",
    "$\\omega = \\frac{\\pi}{2}$\n",
    "\n",
    "$\\psi_0(0)=\\left[\\begin{matrix} 1 \\\\ 0 \\end{matrix}\\right]$,\n",
    "$\\psi_t(x)=\\left[\\begin{matrix} 0  \\\\ 0  \\end{matrix}\\right]$ $(x\\neq0)$\n",
    "\n",
    "\n",
    "### 実験結果\n"
   ],
   "metadata": {
    "collapsed": false,
    "pycharm": {
     "name": "#%% md\n"
    }
   }
  },
  {
   "cell_type": "code",
   "execution_count": null,
   "outputs": [],
   "source": [],
   "metadata": {
    "collapsed": false,
    "pycharm": {
     "name": "#%%\n"
    }
   }
  }
 ],
 "metadata": {
  "kernelspec": {
   "display_name": "Python 3",
   "language": "python",
   "name": "python3"
  },
  "language_info": {
   "codemirror_mode": {
    "name": "ipython",
    "version": 2
   },
   "file_extension": ".py",
   "mimetype": "text/x-python",
   "name": "python",
   "nbconvert_exporter": "python",
   "pygments_lexer": "ipython2",
   "version": "2.7.6"
  }
 },
 "nbformat": 4,
 "nbformat_minor": 0
}