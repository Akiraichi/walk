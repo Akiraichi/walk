{
 "cells": [
  {
   "cell_type": "code",
   "execution_count": null,
   "metadata": {
    "collapsed": true
   },
   "outputs": [],
   "source": [
    "import numpy as np\n",
    "import quantumWalkUtility\n",
    "import matplotlib as plt\n",
    "import sympy\n",
    "plt.style.use(['default'])"
   ]
  },
  {
   "cell_type": "markdown",
   "source": [
    "### 実験20\n",
    "$\\cos \\theta = -\\frac{1}{3}$, $\\sin \\theta = \\frac{2\\sqrt 2}{3}$\n",
    "\n",
    "\n",
    "### 実験20-1\n",
    "$\\psi_0(0)=\\left[\\begin{matrix} 1 \\\\ 0 \\\\ 0 \\end{matrix}\\right]$,\n",
    "$\\psi_t(x)=\\left[\\begin{matrix} 0  \\\\ 0 \\\\ 0 \\end{matrix}\\right]$ $(x\\neq0)$\n",
    "\n",
    "### 実験20-2\n",
    "$\\psi_0(0)=\\left[\\begin{matrix} 0 \\\\ 1 \\\\ 0 \\end{matrix}\\right]$,\n",
    "$\\psi_t(x)=\\left[\\begin{matrix} 0  \\\\ 0 \\\\ 0 \\end{matrix}\\right]$ $(x\\neq0)$\n",
    "\n",
    "### 実験20-3\n",
    "$\\psi_0(0)=\\left[\\begin{matrix} 0 \\\\ 0 \\\\ 1 \\end{matrix}\\right]$,\n",
    "$\\psi_t(x)=\\left[\\begin{matrix} 0  \\\\ 0 \\\\ 0 \\end{matrix}\\right]$ $(x\\neq0)$\n",
    "\n",
    "### 実験20-4\n",
    "$\\psi_0(0)=\\left[\\begin{matrix} \\frac{1}{\\sqrt3} \\\\ \\frac{1}{\\sqrt3} \\\\ \\frac{1}{\\sqrt3} \\end{matrix}\\right]$,\n",
    "$\\psi_t(x)=\\left[\\begin{matrix} 0  \\\\ 0 \\\\ 0 \\end{matrix}\\right]$ $(x\\neq0)$\n",
    "\n",
    "### 実験20-5\n",
    "$\\psi_0(0)=\\left[\\begin{matrix} \\frac{1}{\\sqrt6} \\\\ -\\frac{2}{\\sqrt6} \\\\ \\frac{1}{\\sqrt6} \\end{matrix}\\right]$,\n",
    "$\\psi_t(x)=\\left[\\begin{matrix} 0  \\\\ 0 \\\\ 0 \\end{matrix}\\right]$ $(x\\neq0)$\n",
    "\n",
    "### 実験結果"
   ],
   "metadata": {
    "collapsed": false
   }
  },
  {
   "cell_type": "code",
   "execution_count": null,
   "outputs": [],
   "source": [
    "def exp_20(exp_code_chapter,PSY_init,description):\n",
    "    \"\"\"実験結果保存設定\"\"\"\n",
    "    exp_code = \"exp_18\"\n",
    "    folder_name, fig_title_name, file_name = quantumWalkUtility.save_setting(exp_code,exp_code_chapter,description)\n",
    "\n",
    "    \"\"\"実験\"\"\"\n",
    "    T = 500\n",
    "    P = np.array([[-1/3, 2/3, 2/3], [0, 0, 0], [0, 0, 0]], dtype=np.complex128)\n",
    "    Q = np.array([[0, 0, 0], [2/3, -1/3, 2/3], [0, 0, 0]], dtype=np.complex128)\n",
    "    R = np.array([[0, 0, 0], [0, 0, 0], [2/3, 2/3, -1/3]], dtype=np.complex128)\n",
    "    PSY = quantumWalkUtility.quantum_walk_1d_3component(T,P,Q,R,PSY_init)\n",
    "\n",
    "    \"\"\"プロット及び保存\"\"\"\n",
    "    plots_t = [0, 1, 2, 3, 4, 5, 10, 20, 50, 100, 200, 500]\n",
    "    plot_graph_num_by_axis_row = 3\n",
    "    plot_graph_num_by_axis_col = 4\n",
    "    graph_type = \"棒グラフ\"\n",
    "    quantumWalkUtility.do_plot(folder_name, fig_title_name, file_name, plots_t, plot_graph_num_by_axis_row,\n",
    "                plot_graph_num_by_axis_col,\n",
    "                False, graph_type, PSY)\n",
    "\n",
    "PSY_init = np.array([1, 0, 0])\n",
    "exp_20(exp_code_chapter=1,PSY_init=PSY_init,description=\"確率分布の時間発展1\")\n",
    "\n",
    "# PSY_init = np.array([0, 1, 0])\n",
    "# exp_18(exp_code_chapter=2,PSY_init=PSY_init,description=\"確率分布の時間発展2\")\n",
    "#\n",
    "# PSY_init = np.array([0, 0, 1])\n",
    "# exp_18(exp_code_chapter=3,PSY_init=PSY_init,description=\"確率分布の時間発展3\")\n",
    "#\n",
    "# PSY_init = np.array([1/np.sqrt(3), 1/np.sqrt(3), 1/np.sqrt(3)])\n",
    "# exp_18(exp_code_chapter=4,PSY_init=PSY_init,description=\"確率分布の時間発展4\")\n",
    "#\n",
    "# PSY_init = np.array([1/np.sqrt(6), -2/np.sqrt(6), 1/np.sqrt(6)])\n",
    "# exp_18(exp_code_chapter=5,PSY_init=PSY_init,description=\"確率分布の時間発展5\")\n"
   ],
   "metadata": {
    "collapsed": false,
    "pycharm": {
     "name": "#%%\n"
    }
   }
  }
 ],
 "metadata": {
  "kernelspec": {
   "display_name": "Python 3",
   "language": "python",
   "name": "python3"
  },
  "language_info": {
   "codemirror_mode": {
    "name": "ipython",
    "version": 2
   },
   "file_extension": ".py",
   "mimetype": "text/x-python",
   "name": "python",
   "nbconvert_exporter": "python",
   "pygments_lexer": "ipython2",
   "version": "2.7.6"
  }
 },
 "nbformat": 4,
 "nbformat_minor": 0
}