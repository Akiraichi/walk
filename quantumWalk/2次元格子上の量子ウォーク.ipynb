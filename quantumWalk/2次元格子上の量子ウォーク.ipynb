{
 "cells": [
  {
   "cell_type": "code",
   "execution_count": null,
   "metadata": {
    "collapsed": true
   },
   "outputs": [],
   "source": []
  },
  {
   "cell_type": "markdown",
   "source": [
    "# 確率振幅ベクトルの成分が4つの場合\n",
    "## モデルの説明\n",
    "\n",
    "#### 1. 確率振幅ベクトル\n",
    "\n",
    "各場所$(x,y)$に複素成分を持つ4次の縦ベクトル\n",
    "\n",
    "#### 2. 時間発展ルール\n",
    "量子ウォークの時間発展は$4\\times4$の行列$P,Q,R,S$を用いて、\n",
    "\n",
    "$\\begin{aligned} \\vec{\\psi}_{t+1}(x, y)=& P \\vec{\\psi}_{t}(x+1, y)+Q \\vec{\\psi}_{t}(x-1, y) \\\\ &+R \\vec{\\psi}_{t}(x, y+1)+S \\vec{\\psi}_{t}(x, y-1) \\end{aligned}$\n",
    "\n",
    "で与えられる。ただし4つの行列$P,Q,R,S$は、\n",
    "\n",
    "$P=\\left[\\begin{array}{cccc}a_{1} & a_{2} & a_{3} & a_{4} \\\\ 0 & 0 & 0 & 0 \\\\ 0 & 0 & 0 & 0 \\\\ 0 & 0 & 0 & 0\\end{array}\\right], \\quad Q=\\left[\\begin{array}{cccc}0 & 0 & 0 & 0 \\\\ b_{1} & b_{2} & b_{3} & b_{4} \\\\ 0 & 0 & 0 & 0 \\\\ 0 & 0 & 0 & 0\\end{array}\\right]$\n",
    "$R=\\left[\\begin{array}{cccc}0 & 0 & 0 & 0 \\\\ 0 & 0 & 0 & 0 \\\\ c_{1} & c_{2} & c_{3} & c_{4} \\\\ 0 & 0 & 0 & 0\\end{array}\\right], \\quad S=\\left[\\begin{array}{cccc}0 & 0 & 0 & 0 \\\\ 0 & 0 & 0 & 0 \\\\ 0 & 0 & 0 & 0 \\\\ d_{1} & d_{2} & d_{3} & d_{4}\\end{array}\\right]$\n",
    "\n",
    "の形で与えられる。\n",
    "\n",
    "また、$P+Q+R+S$はユニタリ行列とする\n",
    "\n",
    "#### 3. 確率\n",
    "\n",
    "時刻$t$において、場所$x$に量子ウォークの位置が決まる確率は\n",
    "\n",
    "$\\mathbb{P}_{t}(x,y)=\\left\\|\\vec{\\psi}_{t}(x,y)\\right\\|^{2}$\n",
    "\n",
    "で定義される\n",
    "\n",
    "## モデルに必要な条件\n",
    "\n",
    "1. $\\sum_{x=-\\infty}^{\\infty}\\sum_{y=-\\infty}^{\\infty}\\left\\|\\vec{\\psi}_{0}(x,y)\\right\\|^{2}=1$が成立するような初期確率振幅ベクトルを設定する\n",
    "2. $P+Q+R+S$はユニタリ行列である\n",
    "\n",
    "## 注目する行列\n",
    "\n",
    "次のタイプの行列に注目する\n",
    "\n",
    "##### グローバーウォーク\n",
    "\n",
    "$P=\\left[\\begin{array}{rrrr}-\\frac{1}{2} & \\frac{1}{2} & \\frac{1}{2} & \\frac{1}{2} \\\\ 0 & 0 & 0 & 0 \\\\ 0 & 0 & 0 & 0 \\\\ 0 & 0 & 0 & 0\\end{array}\\right], \\quad Q=\\left[\\begin{array}{llll}0 & 0 & 0 & 0 \\\\ \\frac{1}{2} & -\\frac{1}{2} & \\frac{1}{2} & \\frac{1}{2} \\\\ 0 & 0 & 0 & 0 \\\\ 0 & 0 & 0 & 0\\end{array}\\right]$\n",
    "$R=\\left[\\begin{array}{llll}0 & 0 & 0 & 0 \\\\ 0 & 0 & 0 & 0 \\\\ \\frac{1}{2} & \\frac{1}{2} & -\\frac{1}{2} & \\frac{1}{2} \\\\ 0 & 0 & 0 & 0\\end{array}\\right], \\quad S=\\left[\\begin{array}{llll}0 & 0 & 0 & 0 \\\\ 0 & 0 & 0 & 0 \\\\ 0 & 0 & 0 & 0 \\\\ \\frac{1}{2} & \\frac{1}{2} & \\frac{1}{2} & -\\frac{1}{2}\\end{array}\\right]$\n",
    "\n",
    "##### アダマールウォーク\n",
    "\n",
    "$P=\\left[\\begin{array}{rrrr} \\frac{1}{2} & \\frac{1}{2} & \\frac{1}{2} & \\frac{1}{2} \\\\ 0 & 0 & 0 & 0 \\\\ 0 & 0 & 0 & 0 \\\\ 0 & 0 & 0 & 0\\end{array}\\right], \\quad Q=\\left[\\begin{array}{llll}0 & 0 & 0 & 0 \\\\ \\frac{1}{2} & -\\frac{1}{2} & \\frac{1}{2} & -\\frac{1}{2} \\\\ 0 & 0 & 0 & 0 \\\\ 0 & 0 & 0 & 0\\end{array}\\right]$\n",
    "$R=\\left[\\begin{array}{llll}0 & 0 & 0 & 0 \\\\ 0 & 0 & 0 & 0 \\\\ \\frac{1}{2} & \\frac{1}{2} & -\\frac{1}{2} & -\\frac{1}{2} \\\\ 0 & 0 & 0 & 0\\end{array}\\right], \\quad S=\\left[\\begin{array}{llll}0 & 0 & 0 & 0 \\\\ 0 & 0 & 0 & 0 \\\\ 0 & 0 & 0 & 0 \\\\ \\frac{1}{2} & -\\frac{1}{2} & -\\frac{1}{2} & \\frac{1}{2}\\end{array}\\right]$\n",
    "\n",
    "##### 離散フーリエウォーク\n",
    "\n",
    "$P=\\left[\\begin{array}{rrrr} \\frac{1}{2} & \\frac{1}{2} & \\frac{1}{2} & \\frac{1}{2} \\\\ 0 & 0 & 0 & 0 \\\\ 0 & 0 & 0 & 0 \\\\ 0 & 0 & 0 & 0\\end{array}\\right], \\quad Q=\\left[\\begin{array}{llll}0 & 0 & 0 & 0 \\\\ \\frac{1}{2} & \\frac{i}{2} & -\\frac{1}{2} & -\\frac{i}{2} \\\\ 0 & 0 & 0 & 0 \\\\ 0 & 0 & 0 & 0\\end{array}\\right]$\n",
    "$R=\\left[\\begin{array}{llll}0 & 0 & 0 & 0 \\\\ 0 & 0 & 0 & 0 \\\\ \\frac{1}{2} & -\\frac{1}{2} & \\frac{1}{2} & -\\frac{1}{2} \\\\ 0 & 0 & 0 & 0\\end{array}\\right], \\quad S=\\left[\\begin{array}{llll}0 & 0 & 0 & 0 \\\\ 0 & 0 & 0 & 0 \\\\ 0 & 0 & 0 & 0 \\\\ \\frac{1}{2} & -\\frac{i}{2} & -\\frac{1}{2} & \\frac{i}{2}\\end{array}\\right]$\n",
    "\n",
    "ちなみに、数学的に厳密に解析されているのは$(x,y)=(0,0)$から出発するグローバーウォークのみ。（2015年時点）\n"
   ],
   "metadata": {
    "collapsed": false,
    "pycharm": {
     "name": "#%% md\n"
    }
   }
  }
 ],
 "metadata": {
  "kernelspec": {
   "display_name": "Python 3",
   "language": "python",
   "name": "python3"
  },
  "language_info": {
   "codemirror_mode": {
    "name": "ipython",
    "version": 2
   },
   "file_extension": ".py",
   "mimetype": "text/x-python",
   "name": "python",
   "nbconvert_exporter": "python",
   "pygments_lexer": "ipython2",
   "version": "2.7.6"
  }
 },
 "nbformat": 4,
 "nbformat_minor": 0
}