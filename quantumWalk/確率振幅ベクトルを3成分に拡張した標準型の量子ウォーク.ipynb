{
 "cells": [
  {
   "cell_type": "code",
   "execution_count": null,
   "outputs": [],
   "source": [],
   "metadata": {
    "collapsed": false,
    "pycharm": {
     "name": "#%%\n"
    }
   }
  },
  {
   "cell_type": "markdown",
   "metadata": {
    "collapsed": true,
    "pycharm": {
     "name": "#%% md\n"
    }
   },
   "source": [
    "# 確率振幅ベクトルの成分が3つの場合\n",
    "## モデルの説明\n",
    "\n",
    "1. 確率振幅ベクトル\n",
    "\n",
    "各場所$x$に複素成分を持つ3次の縦ベクトル\n",
    "\n",
    "2. 時間発展ルール\n",
    "\n",
    "量子ウォークの時間発展は$3\\times3$の行列を用いて、\n",
    "\n",
    "$\\vec{\\psi}_{t+1}(x)=P \\vec{\\psi}_{t}(x+1)+Q \\vec{\\psi}_{t}(x)+R \\vec{\\psi}_{t}(x-1)$\n",
    "\n",
    "で与えられる。ただし3つの行列$P,Q,R$は、\n",
    "\n",
    "$P=\\left[\\begin{array}{ccc}a_{1} & a_{2} & a_{3} \\\\ 0 & 0 & 0 \\\\ 0 & 0 & 0\\end{array}\\right], \\quad Q=\\left[\\begin{array}{ccc}0 & 0 & 0 \\\\ b_{1} & b_{2} & b_{3} \\\\ 0 & 0 & 0\\end{array}\\right], \\quad R=\\left[\\begin{array}{ccc}0 & 0 & 0 \\\\ 0 & 0 & 0 \\\\ c_{1} & c_{2} & c_{3}\\end{array}\\right]$\n",
    "\n",
    "の形で与えられる。\n",
    "\n",
    "また、$P+Q+R$はユニタリ行列とする\n",
    "\n",
    "3. 確率\n",
    "\n",
    "時刻$t$において、場所$x$に量子ウォークの位置が決まる確率は\n",
    "\n",
    "$\\mathbb{P}_{t}(x)=\\left\\|\\vec{\\psi}_{t}(x)\\right\\|^{2}$\n",
    "\n",
    "で定義される\n",
    "\n",
    "## モデルに必要な条件\n",
    "\n",
    "1. $\\sum_{x=-\\infty}^{\\infty}\\left\\|\\vec{\\psi}_{0}(x)\\right\\|^{2}=1$が成立するような初期確率振幅ベクトルを設定する\n",
    "2. $P+Q+R$はユニタリ行列である\n",
    "\n",
    "## 注目する行列\n",
    "\n",
    "数学的に解析されている次のタイプの行列に注目する\n",
    "\n",
    "$P=\\left[\\begin{array}{ccc}-\\frac{1+\\cos \\theta}{2} & \\frac{\\sin \\theta}{\\sqrt{2}} & \\frac{1-\\cos \\theta}{2} \\\\ 0 & 0 & 0 \\\\ 0 & 0 & 0\\end{array}\\right],\n",
    "\\quad Q=\\left[\\begin{array}{ccc}0 & 0 & 0\\\\ \\frac{ \\sin \\theta}{\\sqrt{2}} & \\cos \\theta & \\frac{\\sin \\theta}{\\sqrt{2}} \\\\ 0 & 0 & 0\\end{array}\\right]$\n",
    "$R=\\left[\\begin{array}{ccc}0 & 0 & 0 \\\\ 0 & 0 & 0 \\\\ \\frac{1-\\cos \\theta}{2} & \\frac{\\sin \\theta}{\\sqrt{2}} & -\\frac{1+\\cos \\theta}{2}\\end{array}\\right]$\n",
    "\n",
    "なお、$\\cos \\theta = -\\frac{1}{3}$, $\\sin \\theta = \\frac{2\\sqrt 2}{3}$の時はグローバーウォークと呼ばれる。\n",
    "なぜなら、$P+Q+R$にグローバー行列という名前がつけられているから。\n",
    "$P+Q+R=\\left[\\begin{array}{ccc}-\\frac{1}{3} & \\frac{2}{3} & \\frac{2}{3} \\\\ \\frac{2}{3} & -\\frac{1}{3} & \\frac{2}{3} \\\\ \\frac{2}{3} & \\frac{2}{3} & -\\frac{1}{3}\\end{array}\\right]$\n",
    "\n",
    "\n",
    "全ての行あるいは列において行列成分の和が1になっていて数学敵に扱いやすい。"
   ]
  },
  {
   "cell_type": "markdown",
   "source": [
    "### 実験18\n",
    "$\\cos \\theta = -\\frac{1}{3}$, $\\sin \\theta = \\frac{2\\sqrt 2}{3}$\n",
    "\n",
    "\n",
    "### 実験18-1\n",
    "$\\psi_0(0)=\\left[\\begin{matrix} 1 \\\\ 0 \\\\ 0 \\end{matrix}\\right]$,\n",
    "$\\psi_t(x)=\\left[\\begin{matrix} 0  \\\\ 0 \\\\ 0 \\end{matrix}\\right]$ $(x\\neq0)$\n",
    "\n",
    "### 実験18-2\n",
    "$\\psi_0(0)=\\left[\\begin{matrix} 0 \\\\ 1 \\\\ 0 \\end{matrix}\\right]$,\n",
    "$\\psi_t(x)=\\left[\\begin{matrix} 0  \\\\ 0 \\\\ 0 \\end{matrix}\\right]$ $(x\\neq0)$\n",
    "\n",
    "### 実験18-3\n",
    "$\\psi_0(0)=\\left[\\begin{matrix} 0 \\\\ 0 \\\\ 1 \\end{matrix}\\right]$,\n",
    "$\\psi_t(x)=\\left[\\begin{matrix} 0  \\\\ 0 \\\\ 0 \\end{matrix}\\right]$ $(x\\neq0)$\n",
    "\n",
    "### 実験18-4\n",
    "$\\psi_0(0)=\\left[\\begin{matrix} \\frac{1}{\\sqrt3} \\\\ \\frac{1}{\\sqrt3} \\\\ \\frac{1}{\\sqrt3} \\end{matrix}\\right]$,\n",
    "$\\psi_t(x)=\\left[\\begin{matrix} 0  \\\\ 0 \\\\ 0 \\end{matrix}\\right]$ $(x\\neq0)$\n",
    "\n",
    "### 実験18-5\n",
    "$\\psi_0(0)=\\left[\\begin{matrix} \\frac{1}{\\sqrt6} \\\\ -\\frac{2}{\\sqrt6} \\\\ \\frac{1}{\\sqrt6} \\end{matrix}\\right]$,\n",
    "$\\psi_t(x)=\\left[\\begin{matrix} 0  \\\\ 0 \\\\ 0 \\end{matrix}\\right]$ $(x\\neq0)$\n",
    "\n",
    "### 実験結果"
   ],
   "metadata": {
    "collapsed": false,
    "pycharm": {
     "name": "#%% md\n"
    }
   }
  },
  {
   "cell_type": "code",
   "execution_count": null,
   "outputs": [],
   "source": [
    "def exp_18(exp_code_chapter,PSY_init,description):\n",
    "    \"\"\"実験結果保存設定\"\"\"\n",
    "    exp_code = \"exp_1\"\n",
    "    folder_name, fig_title_name, file_name = quantumWalkUtility.save_setting(exp_code,exp_code_chapter,description)\n",
    "\n",
    "    \"\"\"実験\"\"\"\n",
    "    # 最大時間発展T(t=0〜t=Tまで時間発展させる。t=Tを求めるにはT+1まで計算する必要があるため内部ではT+1まで計算している)\n",
    "    T = 500\n",
    "    P = np.array([[1, 0], [0, 0]], dtype=np.complex128)\n",
    "    Q = np.array([[0, 0], [0, 1]], dtype=np.complex128)\n",
    "    # 初期確率振幅ベクトル[時間×距離(-T〜T)×2次元ベクトル] x+1やx-1があるので、一つ余分に領域をとっておく\n",
    "    PSY = np.zeros([T+1, 2 * (T + 1) + 1, 2], dtype=np.complex128)\n",
    "    PSY[0, 0] = PSY_init\n",
    "    PSY = quantumWalkUtility.quantum_walk_1d(T,P,Q,PSY)\n",
    "\n",
    "    \"\"\"プロット及び保存\"\"\"\n",
    "    # plotしたい時間t。\n",
    "    plots_t = [0, 1, 2, 3, 4, 5, 10, 20, 50, 100, 200, 500]\n",
    "    # 1つのグラフ内に複数のグラフを表示させる場合、一列（行）に何個グラフを表示させるようにするか？\n",
    "    plot_graph_num_by_axis_row = 3\n",
    "    plot_graph_num_by_axis_col = 4\n",
    "    # グラフの種類\n",
    "    graph_type = \"棒グラフ\"\n",
    "    quantumWalkUtility.do_plot(folder_name, fig_title_name, file_name, plots_t, plot_graph_num_by_axis_row,\n",
    "                plot_graph_num_by_axis_col,\n",
    "                False, graph_type, PSY)\n",
    "\n",
    "PSY_init = np.array([1, 0])\n",
    "exp_18(exp_code_chapter=1,PSY_init=PSY_init,description=\"確率分布の時間発展1\")\n",
    "\n",
    "PSY_init = np.array([0, 1])\n",
    "exp_18(exp_code_chapter=2,PSY_init=PSY_init,description=\"確率分布の時間発展2\")\n",
    "\n",
    "PSY_init = np.array([1/np.sqrt(2), 1j/np.sqrt(2)])\n",
    "exp_18(exp_code_chapter=3,PSY_init=PSY_init,description=\"確率分布の時間発展3\")\n",
    "\n",
    "\n",
    "\n",
    "\n",
    "\n",
    "\n",
    "\n",
    "\n",
    "\n",
    "\n",
    "\n"
   ],
   "metadata": {
    "collapsed": false,
    "pycharm": {
     "name": "#%%\n"
    }
   }
  }
 ],
 "metadata": {
  "kernelspec": {
   "display_name": "Python 3",
   "language": "python",
   "name": "python3"
  },
  "language_info": {
   "codemirror_mode": {
    "name": "ipython",
    "version": 2
   },
   "file_extension": ".py",
   "mimetype": "text/x-python",
   "name": "python",
   "nbconvert_exporter": "python",
   "pygments_lexer": "ipython2",
   "version": "2.7.6"
  }
 },
 "nbformat": 4,
 "nbformat_minor": 0
}